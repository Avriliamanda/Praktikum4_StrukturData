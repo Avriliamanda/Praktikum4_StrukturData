{
  "nbformat": 4,
  "nbformat_minor": 0,
  "metadata": {
    "colab": {
      "provenance": [],
      "authorship_tag": "ABX9TyOTGNAcTbI/eQ+152wlni2y",
      "include_colab_link": true
    },
    "kernelspec": {
      "name": "python3",
      "display_name": "Python 3"
    },
    "language_info": {
      "name": "python"
    }
  },
  "cells": [
    {
      "cell_type": "markdown",
      "metadata": {
        "id": "view-in-github",
        "colab_type": "text"
      },
      "source": [
        "<a href=\"https://colab.research.google.com/github/Avriliamanda/Praktikum4_StrukturData/blob/main/Praktikum4_G211220093.ipynb\" target=\"_parent\"><img src=\"https://colab.research.google.com/assets/colab-badge.svg\" alt=\"Open In Colab\"/></a>"
      ]
    },
    {
      "cell_type": "markdown",
      "source": [
        "Berikut adalah contoh algoritma sederhana menggunakan Python untuk membuat pangram:"
      ],
      "metadata": {
        "id": "PNmdT0h9BLQb"
      }
    },
    {
      "cell_type": "code",
      "source": [
        "def is_pangram(sentence):\n",
        "    #membuat set kosong untuk menyimpan huruf-huruf yang sudah muncul\n",
        "    alphabet_set = set()\n",
        "    #mengonversi kalimat menjadi huruf kecil untuk menghindari sensitivitas huruf besar-kecil\n",
        "    sentence = sentence.lower()\n",
        "    #iterasi melalui setiap karakter dalam kalimat\n",
        "    for char in sentence:\n",
        "    #memeriksa apakah karakter adalah huruf alfabet\n",
        "        if char.isalpha():\n",
        "        #menambahkan huruf ke dalam set\n",
        "            alphabet_set.add(char)\n",
        "            #memeriksa apakah set huruf mencakup seluruh abjad\n",
        "    return len(alphabet_set) == 26\n",
        "\n",
        "#contoh penggunaan\n",
        "kalimat = \"The quick brown fox jumps over the lazy dog\"\n",
        "if is_pangram(kalimat):\n",
        "    print(\"Kalimat tersebut adalah pangram.\")\n",
        "else:\n",
        "    print(\"Kalimat tersebut bukan pangram.\")"
      ],
      "metadata": {
        "colab": {
          "base_uri": "https://localhost:8080/"
        },
        "id": "20z7LqVQBRsS",
        "outputId": "6ac62784-4e01-48cc-c734-96584fba5e5a"
      },
      "execution_count": 4,
      "outputs": [
        {
          "output_type": "stream",
          "name": "stdout",
          "text": [
            "Kalimat tersebut adalah pangram.\n"
          ]
        }
      ]
    },
    {
      "cell_type": "code",
      "execution_count": 5,
      "metadata": {
        "colab": {
          "base_uri": "https://localhost:8080/"
        },
        "id": "r_1tCd9vRnzL",
        "outputId": "e474ba50-c3ff-4291-cd14-3e8db2378362"
      },
      "outputs": [
        {
          "output_type": "stream",
          "name": "stdout",
          "text": [
            "\"The quick brown fox jumps over the little lazy dog\"\n",
            "\n",
            "is a pangram\n"
          ]
        }
      ],
      "source": [
        "def checkPangram(s):\n",
        "  #membuat fungsi untuk menerima satu paramater 's' sebuah string\n",
        "  List = []\n",
        "  #membuat list kosong yang akan digunakan untuk melacak keberadaan setiap huruf dalam alfabet\n",
        "  for i in range(26):\n",
        "    #melakukan iterasi 26 kali\n",
        "    List.append(False)\n",
        "    #menambahkan nilai False ke dalam List untuk setiap iterasi, dan menginisialisasi semua nilai menjadi False\n",
        "\n",
        "  for c in s.lower():\n",
        "    #iterasi melalui setiap karakter dalam string 's' yang diubah menjadi huruf kecil\n",
        "    if not c == \" \":\n",
        "      #memeriksa apakah karakter dan bukan spasi\n",
        "      List[ord(c) - ord('a')] = True\n",
        "      #mengubah nilai List menjadi True, menandakan bahwa huruf tersebut telah muncul dalam kalimat\n",
        "\n",
        "  for ch in List:\n",
        "    #melakukan iterasi melalui setiap huruf dalam list\n",
        "    if ch == False:\n",
        "      #memeriksa apakah False dalam List\n",
        "      return False\n",
        "      #jika False, fungsi mengembalikan False, dan menandakan bahwa kalimat bukan pangram\n",
        "  return True\n",
        "  #jika semua sudah True, fungsi mengembalikan True, dan menandakan bahwa kalimat adalah pangram\n",
        "\n",
        "sentence = \"The quick brown fox jumps over the little lazy dog\"\n",
        "#mendefinisikan kalimat sebagai string yang akan diperiksa apakah merupakan pangram atau tidak\n",
        "if (checkPangram(sentence)):\n",
        "  #memanggil fungsi checkPangram dan memeriksa apakah hasilnya true\n",
        "  print('\"'+sentence+'\"')\n",
        "  #mencetak kalimat dalam tanda kutip ganda\n",
        "  print(\"\\nis a pangram\")\n",
        "  #mencetak bahwa kalimat adalah pangram\n",
        "else:\n",
        "  #bagian ini dijalankan jika kondisi pada baris 13 tidak terpenuhi\n",
        "  print('\"'+sentence+'\"')\n",
        "  #mencetak kalimat dalam tanda kutip ganda\n",
        "  print(\"\\nis not a pangram\")\n",
        "  #mencetak bahwa kalimat bukan pangram"
      ]
    },
    {
      "cell_type": "code",
      "source": [
        "def checkPangram(s):\n",
        "  List = []\n",
        "  for i in range(26):\n",
        "    List.append(False)\n",
        "\n",
        "  for c in s.lower():\n",
        "    if not c == \" \":\n",
        "      List[ord(c) - ord('a')] = True\n",
        "\n",
        "  for ch in List:\n",
        "    if ch == False:\n",
        "      return False\n",
        "  return True\n",
        "\n",
        "sentence = \"The quick brown fox jumps over the little lazy dog\"\n",
        "if (checkPangram(sentence)):\n",
        "  print('\"'+sentence+'\"')\n",
        "  print(\"\\nis a pangram\")\n",
        "else:\n",
        "  print('\"'+sentence+'\"')\n",
        "  print(\"\\nis not a pangram\")"
      ],
      "metadata": {
        "colab": {
          "base_uri": "https://localhost:8080/"
        },
        "id": "qKD6LWmA0DNC",
        "outputId": "dfd76a88-b70b-4401-a5d9-3cbcdd1341e4"
      },
      "execution_count": 6,
      "outputs": [
        {
          "output_type": "stream",
          "name": "stdout",
          "text": [
            "\"The quick brown fox jumps over the little lazy dog\"\n",
            "\n",
            "is a pangram\n"
          ]
        }
      ]
    }
  ]
}